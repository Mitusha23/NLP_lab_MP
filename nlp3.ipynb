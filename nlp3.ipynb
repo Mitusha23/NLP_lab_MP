{
 "cells": [
  {
   "cell_type": "code",
   "execution_count": 28,
   "metadata": {},
   "outputs": [],
   "source": [
    "import spacy"
   ]
  },
  {
   "cell_type": "code",
   "execution_count": 34,
   "metadata": {},
   "outputs": [],
   "source": [
    "raw_text=\"\"\"In any text data, the named entities are objects which exist in the real world.\n",
    " Examples of objects can be the name of any person, place or thing that can be represented\n",
    "   in any data with their proper name. Examples of named entities are Narendra Modi, Mumbai,\n",
    "     MacBook pro etc. or anything that can have a name.\n",
    "More formally we can say a named entity denotes the proper name of any object.\n",
    " As mentioned in the above example, Narendra Modi is the name of a leader, Mumbai \n",
    " is the name of a city and MacBook pro is the name of a laptop. \"\"\""
   ]
  },
  {
   "cell_type": "code",
   "execution_count": 30,
   "metadata": {},
   "outputs": [],
   "source": [
    "NER = spacy.load(\"en_core_web_sm\", disable=[\"tok2vec\", \"tagger\", \"parser\", \"attribute_ruler\", \"lemmatizer\"])\n"
   ]
  },
  {
   "cell_type": "code",
   "execution_count": 31,
   "metadata": {},
   "outputs": [],
   "source": [
    "text= NER(raw_text)"
   ]
  },
  {
   "cell_type": "code",
   "execution_count": 32,
   "metadata": {},
   "outputs": [
    {
     "name": "stdout",
     "output_type": "stream",
     "text": [
      "Narendra Modi PERSON\n",
      "Mumbai GPE\n",
      "Narendra Modi PERSON\n",
      "Mumbai GPE\n",
      "MacBook pro PERSON\n"
     ]
    }
   ],
   "source": [
    "for w in text.ents:\n",
    "    print(w.text,w.label_)"
   ]
  },
  {
   "cell_type": "code",
   "execution_count": 33,
   "metadata": {},
   "outputs": [],
   "source": [
    "import nltk"
   ]
  },
  {
   "cell_type": "code",
   "execution_count": 7,
   "metadata": {},
   "outputs": [],
   "source": [
    "from nltk.tokenize import word_tokenize"
   ]
  },
  {
   "cell_type": "code",
   "execution_count": 8,
   "metadata": {},
   "outputs": [],
   "source": [
    "from nltk.tag import pos_tag"
   ]
  },
  {
   "cell_type": "code",
   "execution_count": 15,
   "metadata": {},
   "outputs": [
    {
     "name": "stderr",
     "output_type": "stream",
     "text": [
      "[nltk_data] Downloading package treebank to\n",
      "[nltk_data]     C:\\Users\\AJay\\AppData\\Roaming\\nltk_data...\n",
      "[nltk_data]   Package treebank is already up-to-date!\n",
      "[nltk_data] Downloading package maxent_ne_chunker to\n",
      "[nltk_data]     C:\\Users\\AJay\\AppData\\Roaming\\nltk_data...\n",
      "[nltk_data]   Unzipping chunkers\\maxent_ne_chunker.zip.\n"
     ]
    },
    {
     "name": "stdout",
     "output_type": "stream",
     "text": [
      "(S\n",
      "  (PERSON Pierre/NNP)\n",
      "  (ORGANIZATION Vinken/NNP)\n",
      "  ,/,\n",
      "  61/CD\n",
      "  years/NNS\n",
      "  old/JJ\n",
      "  ,/,\n",
      "  will/MD\n",
      "  join/VB\n",
      "  the/DT\n",
      "  board/NN\n",
      "  as/IN\n",
      "  a/DT\n",
      "  nonexecutive/JJ\n",
      "  director/NN\n",
      "  Nov./NNP\n",
      "  29/CD\n",
      "  ./.)\n"
     ]
    }
   ],
   "source": [
    "nltk.download('treebank')\n",
    "nltk.download('maxent_ne_chunker')\n",
    "sent = nltk.corpus.treebank.tagged_sents()\n",
    "print(nltk.ne_chunk(sent[0]))"
   ]
  },
  {
   "cell_type": "code",
   "execution_count": 16,
   "metadata": {},
   "outputs": [
    {
     "name": "stderr",
     "output_type": "stream",
     "text": [
      "[nltk_data] Downloading package punkt to\n",
      "[nltk_data]     C:\\Users\\AJay\\AppData\\Roaming\\nltk_data...\n",
      "[nltk_data]   Unzipping tokenizers\\punkt.zip.\n",
      "[nltk_data] Downloading package averaged_perceptron_tagger to\n",
      "[nltk_data]     C:\\Users\\AJay\\AppData\\Roaming\\nltk_data...\n",
      "[nltk_data]   Unzipping taggers\\averaged_perceptron_tagger.zip.\n"
     ]
    }
   ],
   "source": [
    "nltk.download('punkt')\n",
    "nltk.download('averaged_perceptron_tagger')\n",
    "raw_words= word_tokenize(raw_text)\n",
    "tags=pos_tag(raw_words)"
   ]
  },
  {
   "cell_type": "code",
   "execution_count": 17,
   "metadata": {},
   "outputs": [
    {
     "name": "stderr",
     "output_type": "stream",
     "text": [
      "[nltk_data] Downloading package maxent_ne_chunker to\n",
      "[nltk_data]     C:\\Users\\AJay\\AppData\\Roaming\\nltk_data...\n",
      "[nltk_data]   Package maxent_ne_chunker is already up-to-date!\n",
      "[nltk_data] Downloading package words to\n",
      "[nltk_data]     C:\\Users\\AJay\\AppData\\Roaming\\nltk_data...\n",
      "[nltk_data]   Package words is already up-to-date!\n"
     ]
    },
    {
     "name": "stdout",
     "output_type": "stream",
     "text": [
      "(S\n",
      "  The/DT\n",
      "  (NE Board/NNP)\n",
      "  of/IN\n",
      "  (NE Control/NNP)\n",
      "  for/IN\n",
      "  Cricket/NNP\n",
      "  in/IN\n",
      "  (NE India/NNP)\n",
      "  (/(\n",
      "  (NE BCCI/NNP)\n",
      "  )/)\n",
      "  is/VBZ\n",
      "  the/DT\n",
      "  governing/VBG\n",
      "  body/NN\n",
      "  for/IN\n",
      "  cricket/NN\n",
      "  in/IN\n",
      "  (NE India/NNP)\n",
      "  and/CC\n",
      "  is/VBZ\n",
      "  under/IN\n",
      "  the/DT\n",
      "  jurisdiction/NN\n",
      "  of/IN\n",
      "  (NE Ministry/NNP)\n",
      "  of/IN\n",
      "  (NE Youth/NNP Affairs/NNPS)\n",
      "  and/CC\n",
      "  (NE Sports/NNP)\n",
      "  ,/,\n",
      "  Government/NNP\n",
      "  of/IN\n",
      "  (NE India/NNP)\n",
      "  ./.\n",
      "  [/CC\n",
      "  2/CD\n",
      "  ]/VBP\n",
      "  The/DT\n",
      "  board/NN\n",
      "  was/VBD\n",
      "  formed/VBN\n",
      "  in/IN\n",
      "  December/NNP\n",
      "  1928/CD\n",
      "  as/IN\n",
      "  a/DT\n",
      "  society/NN\n",
      "  ,/,\n",
      "  registered/VBN\n",
      "  under/IN\n",
      "  the/DT\n",
      "  (NE Tamil/NNP Nadu/NNP Societies/NNP)\n",
      "  Registration/NNP\n",
      "  Act/NNP\n",
      "  ./.\n",
      "  It/PRP\n",
      "  is/VBZ\n",
      "  a/DT\n",
      "  consortium/NN\n",
      "  of/IN\n",
      "  state/NN\n",
      "  cricket/NN\n",
      "  associations/NNS\n",
      "  and/CC\n",
      "  the/DT\n",
      "  state/NN\n",
      "  associations/NNS\n",
      "  select/VBP\n",
      "  their/PRP$\n",
      "  representatives/NNS\n",
      "  who/WP\n",
      "  in/IN\n",
      "  turn/NN\n",
      "  elect/VBP\n",
      "  the/DT\n",
      "  (NE BCCI/NNP Chief/NNP)\n",
      "  ./.\n",
      "  Its/PRP$\n",
      "  headquarters/NNS\n",
      "  are/VBP\n",
      "  in/IN\n",
      "  (NE Wankhede/NNP Stadium/NNP)\n",
      "  ,/,\n",
      "  (NE Mumbai/NNP)\n",
      "  ./.\n",
      "  Grant/NNP\n",
      "  Govan/NNP\n",
      "  was/VBD\n",
      "  its/PRP$\n",
      "  first/JJ\n",
      "  president/NN\n",
      "  and/CC\n",
      "  (NE Anthony/NNP De/NNP Mello/NNP)\n",
      "  its/PRP$\n",
      "  first/JJ\n",
      "  secretary/NN\n",
      "  ./.)\n"
     ]
    }
   ],
   "source": [
    "nltk.download('maxent_ne_chunker')\n",
    "nltk.download('words')\n",
    "ne = nltk.ne_chunk(tags,binary=True)\n",
    "print(ne)"
   ]
  },
  {
   "cell_type": "code",
   "execution_count": 18,
   "metadata": {},
   "outputs": [
    {
     "data": {
      "text/plain": [
       "[('The', 'DT', 'O'),\n",
       " ('Board', 'NNP', 'B-NE'),\n",
       " ('of', 'IN', 'O'),\n",
       " ('Control', 'NNP', 'B-NE'),\n",
       " ('for', 'IN', 'O'),\n",
       " ('Cricket', 'NNP', 'O'),\n",
       " ('in', 'IN', 'O'),\n",
       " ('India', 'NNP', 'B-NE'),\n",
       " ('(', '(', 'O'),\n",
       " ('BCCI', 'NNP', 'B-NE'),\n",
       " (')', ')', 'O'),\n",
       " ('is', 'VBZ', 'O'),\n",
       " ('the', 'DT', 'O'),\n",
       " ('governing', 'VBG', 'O'),\n",
       " ('body', 'NN', 'O'),\n",
       " ('for', 'IN', 'O'),\n",
       " ('cricket', 'NN', 'O'),\n",
       " ('in', 'IN', 'O'),\n",
       " ('India', 'NNP', 'B-NE'),\n",
       " ('and', 'CC', 'O'),\n",
       " ('is', 'VBZ', 'O'),\n",
       " ('under', 'IN', 'O'),\n",
       " ('the', 'DT', 'O'),\n",
       " ('jurisdiction', 'NN', 'O'),\n",
       " ('of', 'IN', 'O'),\n",
       " ('Ministry', 'NNP', 'B-NE'),\n",
       " ('of', 'IN', 'O'),\n",
       " ('Youth', 'NNP', 'B-NE'),\n",
       " ('Affairs', 'NNPS', 'I-NE'),\n",
       " ('and', 'CC', 'O'),\n",
       " ('Sports', 'NNP', 'B-NE'),\n",
       " (',', ',', 'O'),\n",
       " ('Government', 'NNP', 'O'),\n",
       " ('of', 'IN', 'O'),\n",
       " ('India', 'NNP', 'B-NE'),\n",
       " ('.', '.', 'O'),\n",
       " ('[', 'CC', 'O'),\n",
       " ('2', 'CD', 'O'),\n",
       " (']', 'VBP', 'O'),\n",
       " ('The', 'DT', 'O'),\n",
       " ('board', 'NN', 'O'),\n",
       " ('was', 'VBD', 'O'),\n",
       " ('formed', 'VBN', 'O'),\n",
       " ('in', 'IN', 'O'),\n",
       " ('December', 'NNP', 'O'),\n",
       " ('1928', 'CD', 'O'),\n",
       " ('as', 'IN', 'O'),\n",
       " ('a', 'DT', 'O'),\n",
       " ('society', 'NN', 'O'),\n",
       " (',', ',', 'O'),\n",
       " ('registered', 'VBN', 'O'),\n",
       " ('under', 'IN', 'O'),\n",
       " ('the', 'DT', 'O'),\n",
       " ('Tamil', 'NNP', 'B-NE'),\n",
       " ('Nadu', 'NNP', 'I-NE'),\n",
       " ('Societies', 'NNP', 'I-NE'),\n",
       " ('Registration', 'NNP', 'O'),\n",
       " ('Act', 'NNP', 'O'),\n",
       " ('.', '.', 'O'),\n",
       " ('It', 'PRP', 'O'),\n",
       " ('is', 'VBZ', 'O'),\n",
       " ('a', 'DT', 'O'),\n",
       " ('consortium', 'NN', 'O'),\n",
       " ('of', 'IN', 'O'),\n",
       " ('state', 'NN', 'O'),\n",
       " ('cricket', 'NN', 'O'),\n",
       " ('associations', 'NNS', 'O'),\n",
       " ('and', 'CC', 'O'),\n",
       " ('the', 'DT', 'O'),\n",
       " ('state', 'NN', 'O'),\n",
       " ('associations', 'NNS', 'O'),\n",
       " ('select', 'VBP', 'O'),\n",
       " ('their', 'PRP$', 'O'),\n",
       " ('representatives', 'NNS', 'O'),\n",
       " ('who', 'WP', 'O'),\n",
       " ('in', 'IN', 'O'),\n",
       " ('turn', 'NN', 'O'),\n",
       " ('elect', 'VBP', 'O'),\n",
       " ('the', 'DT', 'O'),\n",
       " ('BCCI', 'NNP', 'B-NE'),\n",
       " ('Chief', 'NNP', 'I-NE'),\n",
       " ('.', '.', 'O'),\n",
       " ('Its', 'PRP$', 'O'),\n",
       " ('headquarters', 'NNS', 'O'),\n",
       " ('are', 'VBP', 'O'),\n",
       " ('in', 'IN', 'O'),\n",
       " ('Wankhede', 'NNP', 'B-NE'),\n",
       " ('Stadium', 'NNP', 'I-NE'),\n",
       " (',', ',', 'O'),\n",
       " ('Mumbai', 'NNP', 'B-NE'),\n",
       " ('.', '.', 'O'),\n",
       " ('Grant', 'NNP', 'O'),\n",
       " ('Govan', 'NNP', 'O'),\n",
       " ('was', 'VBD', 'O'),\n",
       " ('its', 'PRP$', 'O'),\n",
       " ('first', 'JJ', 'O'),\n",
       " ('president', 'NN', 'O'),\n",
       " ('and', 'CC', 'O'),\n",
       " ('Anthony', 'NNP', 'B-NE'),\n",
       " ('De', 'NNP', 'I-NE'),\n",
       " ('Mello', 'NNP', 'I-NE'),\n",
       " ('its', 'PRP$', 'O'),\n",
       " ('first', 'JJ', 'O'),\n",
       " ('secretary', 'NN', 'O'),\n",
       " ('.', '.', 'O')]"
      ]
     },
     "execution_count": 18,
     "metadata": {},
     "output_type": "execute_result"
    }
   ],
   "source": [
    "from nltk.chunk import tree2conlltags\n",
    "iob = tree2conlltags(ne)\n",
    "iob"
   ]
  },
  {
   "cell_type": "code",
   "execution_count": null,
   "metadata": {},
   "outputs": [],
   "source": []
  }
 ],
 "metadata": {
  "kernelspec": {
   "display_name": "Python 3",
   "language": "python",
   "name": "python3"
  },
  "language_info": {
   "codemirror_mode": {
    "name": "ipython",
    "version": 3
   },
   "file_extension": ".py",
   "mimetype": "text/x-python",
   "name": "python",
   "nbconvert_exporter": "python",
   "pygments_lexer": "ipython3",
   "version": "3.11.5"
  }
 },
 "nbformat": 4,
 "nbformat_minor": 2
}
