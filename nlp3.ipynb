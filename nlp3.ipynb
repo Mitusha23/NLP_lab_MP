{
 "cells": [
  {
   "cell_type": "code",
   "execution_count": 65,
   "metadata": {},
   "outputs": [],
   "source": [
    "import spacy"
   ]
  },
  {
   "cell_type": "code",
   "execution_count": 66,
   "metadata": {},
   "outputs": [],
   "source": [
    "raw_text=\"\"\"Natural language processing (NLP) is a subfield of Artificial Intelligence (AI). \n",
    "This is a widely used technology for personal assistants that are used in various business \n",
    "fields/areas. This technology works on the speech provided by the user breaks it down for \n",
    "proper understanding and processes it accordingly. This is a very recent and effective\n",
    " approach due to which it has a really high demand in today’s market. Natural Language \n",
    " Processing is an upcoming field where already many transitions such as compatibility \n",
    " with smart devices, and interactive talks with a human have been made possible. \n",
    " Knowledge representation, logical reasoning, and constraint satisfaction were\n",
    "   the emphasis of AI applications in NLP \"\"\""
   ]
  },
  {
   "cell_type": "code",
   "execution_count": 67,
   "metadata": {},
   "outputs": [],
   "source": [
    "NER = spacy.load(\"en_core_web_sm\", disable=[\"tok2vec\", \"tagger\", \"parser\", \"attribute_ruler\", \"lemmatizer\"])\n"
   ]
  },
  {
   "cell_type": "code",
   "execution_count": 68,
   "metadata": {},
   "outputs": [],
   "source": [
    "text= NER(raw_text)"
   ]
  },
  {
   "cell_type": "code",
   "execution_count": 69,
   "metadata": {},
   "outputs": [
    {
     "name": "stdout",
     "output_type": "stream",
     "text": [
      "NLP ORG\n",
      "Artificial Intelligence ORG\n",
      "today DATE\n",
      "AI ORG\n",
      "NLP ORG\n"
     ]
    }
   ],
   "source": [
    "for w in text.ents:\n",
    "    print(w.text,w.label_)"
   ]
  },
  {
   "cell_type": "code",
   "execution_count": 70,
   "metadata": {},
   "outputs": [
    {
     "data": {
      "text/html": [
       "<span class=\"tex2jax_ignore\"><div class=\"entities\" style=\"line-height: 2.5; direction: ltr\">Natural language processing (\n",
       "<mark class=\"entity\" style=\"background: #7aecec; padding: 0.45em 0.6em; margin: 0 0.25em; line-height: 1; border-radius: 0.35em;\">\n",
       "    NLP\n",
       "    <span style=\"font-size: 0.8em; font-weight: bold; line-height: 1; border-radius: 0.35em; vertical-align: middle; margin-left: 0.5rem\">ORG</span>\n",
       "</mark>\n",
       ") is a subfield of \n",
       "<mark class=\"entity\" style=\"background: #7aecec; padding: 0.45em 0.6em; margin: 0 0.25em; line-height: 1; border-radius: 0.35em;\">\n",
       "    Artificial Intelligence\n",
       "    <span style=\"font-size: 0.8em; font-weight: bold; line-height: 1; border-radius: 0.35em; vertical-align: middle; margin-left: 0.5rem\">ORG</span>\n",
       "</mark>\n",
       " (AI). <br>This is a widely used technology for personal assistants that are used in various business <br>fields/areas. This technology works on the speech provided by the user breaks it down for <br>proper understanding and processes it accordingly. This is a very recent and effective<br> approach due to which it has a really high demand in \n",
       "<mark class=\"entity\" style=\"background: #bfe1d9; padding: 0.45em 0.6em; margin: 0 0.25em; line-height: 1; border-radius: 0.35em;\">\n",
       "    today\n",
       "    <span style=\"font-size: 0.8em; font-weight: bold; line-height: 1; border-radius: 0.35em; vertical-align: middle; margin-left: 0.5rem\">DATE</span>\n",
       "</mark>\n",
       "’s market. Natural Language <br> Processing is an upcoming field where already many transitions such as compatibility <br> with smart devices, and interactive talks with a human have been made possible. <br> Knowledge representation, logical reasoning, and constraint satisfaction were<br>   the emphasis of \n",
       "<mark class=\"entity\" style=\"background: #7aecec; padding: 0.45em 0.6em; margin: 0 0.25em; line-height: 1; border-radius: 0.35em;\">\n",
       "    AI\n",
       "    <span style=\"font-size: 0.8em; font-weight: bold; line-height: 1; border-radius: 0.35em; vertical-align: middle; margin-left: 0.5rem\">ORG</span>\n",
       "</mark>\n",
       " applications in \n",
       "<mark class=\"entity\" style=\"background: #7aecec; padding: 0.45em 0.6em; margin: 0 0.25em; line-height: 1; border-radius: 0.35em;\">\n",
       "    NLP\n",
       "    <span style=\"font-size: 0.8em; font-weight: bold; line-height: 1; border-radius: 0.35em; vertical-align: middle; margin-left: 0.5rem\">ORG</span>\n",
       "</mark>\n",
       " </div></span>"
      ],
      "text/plain": [
       "<IPython.core.display.HTML object>"
      ]
     },
     "metadata": {},
     "output_type": "display_data"
    }
   ],
   "source": [
    "spacy.displacy.render(text, style=\"ent\",jupyter=True)"
   ]
  },
  {
   "cell_type": "code",
   "execution_count": 71,
   "metadata": {},
   "outputs": [],
   "source": [
    "import nltk\n",
    "from nltk.tokenize import word_tokenize\n",
    "from nltk.tag import pos_tag"
   ]
  },
  {
   "cell_type": "code",
   "execution_count": 72,
   "metadata": {},
   "outputs": [
    {
     "name": "stdout",
     "output_type": "stream",
     "text": [
      "(S\n",
      "  (PERSON Pierre/NNP)\n",
      "  (ORGANIZATION Vinken/NNP)\n",
      "  ,/,\n",
      "  61/CD\n",
      "  years/NNS\n",
      "  old/JJ\n",
      "  ,/,\n",
      "  will/MD\n",
      "  join/VB\n",
      "  the/DT\n",
      "  board/NN\n",
      "  as/IN\n",
      "  a/DT\n",
      "  nonexecutive/JJ\n",
      "  director/NN\n",
      "  Nov./NNP\n",
      "  29/CD\n",
      "  ./.)\n"
     ]
    },
    {
     "name": "stderr",
     "output_type": "stream",
     "text": [
      "[nltk_data] Downloading package treebank to\n",
      "[nltk_data]     C:\\Users\\AJay\\AppData\\Roaming\\nltk_data...\n",
      "[nltk_data]   Package treebank is already up-to-date!\n",
      "[nltk_data] Downloading package maxent_ne_chunker to\n",
      "[nltk_data]     C:\\Users\\AJay\\AppData\\Roaming\\nltk_data...\n",
      "[nltk_data]   Package maxent_ne_chunker is already up-to-date!\n"
     ]
    }
   ],
   "source": [
    "nltk.download('treebank')\n",
    "nltk.download('maxent_ne_chunker')\n",
    "sent = nltk.corpus.treebank.tagged_sents()\n",
    "print(nltk.ne_chunk(sent[0]))"
   ]
  },
  {
   "cell_type": "code",
   "execution_count": 73,
   "metadata": {},
   "outputs": [
    {
     "name": "stderr",
     "output_type": "stream",
     "text": [
      "[nltk_data] Downloading package punkt to\n",
      "[nltk_data]     C:\\Users\\AJay\\AppData\\Roaming\\nltk_data...\n",
      "[nltk_data]   Package punkt is already up-to-date!\n",
      "[nltk_data] Downloading package averaged_perceptron_tagger to\n",
      "[nltk_data]     C:\\Users\\AJay\\AppData\\Roaming\\nltk_data...\n",
      "[nltk_data]   Package averaged_perceptron_tagger is already up-to-\n",
      "[nltk_data]       date!\n"
     ]
    }
   ],
   "source": [
    "nltk.download('punkt')\n",
    "nltk.download('averaged_perceptron_tagger')\n",
    "raw_words= word_tokenize(raw_text)\n",
    "tags=pos_tag(raw_words)"
   ]
  },
  {
   "cell_type": "code",
   "execution_count": 74,
   "metadata": {},
   "outputs": [
    {
     "name": "stdout",
     "output_type": "stream",
     "text": [
      "(S\n",
      "  Natural/JJ\n",
      "  language/NN\n",
      "  processing/NN\n",
      "  (/(\n",
      "  (NE NLP/NNP)\n",
      "  )/)\n",
      "  is/VBZ\n",
      "  a/DT\n",
      "  subfield/NN\n",
      "  of/IN\n",
      "  (NE Artificial/JJ Intelligence/NNP)\n",
      "  (/(\n",
      "  AI/NNP\n",
      "  )/)\n",
      "  ./.\n",
      "  This/DT\n",
      "  is/VBZ\n",
      "  a/DT\n",
      "  widely/RB\n",
      "  used/VBN\n",
      "  technology/NN\n",
      "  for/IN\n",
      "  personal/JJ\n",
      "  assistants/NNS\n",
      "  that/WDT\n",
      "  are/VBP\n",
      "  used/VBN\n",
      "  in/IN\n",
      "  various/JJ\n",
      "  business/NN\n",
      "  fields/areas/NNS\n",
      "  ./.\n",
      "  This/DT\n",
      "  technology/NN\n",
      "  works/VBZ\n",
      "  on/IN\n",
      "  the/DT\n",
      "  speech/NN\n",
      "  provided/VBN\n",
      "  by/IN\n",
      "  the/DT\n",
      "  user/NN\n",
      "  breaks/VBZ\n",
      "  it/PRP\n",
      "  down/RP\n",
      "  for/IN\n",
      "  proper/JJ\n",
      "  understanding/NN\n",
      "  and/CC\n",
      "  processes/VBZ\n",
      "  it/PRP\n",
      "  accordingly/RB\n",
      "  ./.\n",
      "  This/DT\n",
      "  is/VBZ\n",
      "  a/DT\n",
      "  very/RB\n",
      "  recent/JJ\n",
      "  and/CC\n",
      "  effective/JJ\n",
      "  approach/NN\n",
      "  due/JJ\n",
      "  to/TO\n",
      "  which/WDT\n",
      "  it/PRP\n",
      "  has/VBZ\n",
      "  a/DT\n",
      "  really/RB\n",
      "  high/JJ\n",
      "  demand/NN\n",
      "  in/IN\n",
      "  today/NN\n",
      "  ’/NNP\n",
      "  s/NN\n",
      "  market/NN\n",
      "  ./.\n",
      "  Natural/JJ\n",
      "  Language/NNP\n",
      "  Processing/NNP\n",
      "  is/VBZ\n",
      "  an/DT\n",
      "  upcoming/JJ\n",
      "  field/NN\n",
      "  where/WRB\n",
      "  already/RB\n",
      "  many/JJ\n",
      "  transitions/NNS\n",
      "  such/JJ\n",
      "  as/IN\n",
      "  compatibility/NN\n",
      "  with/IN\n",
      "  smart/JJ\n",
      "  devices/NNS\n",
      "  ,/,\n",
      "  and/CC\n",
      "  interactive/JJ\n",
      "  talks/NNS\n",
      "  with/IN\n",
      "  a/DT\n",
      "  human/JJ\n",
      "  have/VBP\n",
      "  been/VBN\n",
      "  made/VBN\n",
      "  possible/JJ\n",
      "  ./.\n",
      "  Knowledge/NNP\n",
      "  representation/NN\n",
      "  ,/,\n",
      "  logical/JJ\n",
      "  reasoning/NN\n",
      "  ,/,\n",
      "  and/CC\n",
      "  constraint/JJ\n",
      "  satisfaction/NN\n",
      "  were/VBD\n",
      "  the/DT\n",
      "  emphasis/NN\n",
      "  of/IN\n",
      "  AI/NNP\n",
      "  applications/NNS\n",
      "  in/IN\n",
      "  (NE NLP/NNP))\n"
     ]
    },
    {
     "name": "stderr",
     "output_type": "stream",
     "text": [
      "[nltk_data] Downloading package maxent_ne_chunker to\n",
      "[nltk_data]     C:\\Users\\AJay\\AppData\\Roaming\\nltk_data...\n",
      "[nltk_data]   Package maxent_ne_chunker is already up-to-date!\n",
      "[nltk_data] Downloading package words to\n",
      "[nltk_data]     C:\\Users\\AJay\\AppData\\Roaming\\nltk_data...\n",
      "[nltk_data]   Package words is already up-to-date!\n"
     ]
    }
   ],
   "source": [
    "nltk.download('maxent_ne_chunker')\n",
    "nltk.download('words')\n",
    "ne = nltk.ne_chunk(tags,binary=True)\n",
    "print(ne)"
   ]
  },
  {
   "cell_type": "code",
   "execution_count": 75,
   "metadata": {},
   "outputs": [
    {
     "data": {
      "text/plain": [
       "[('Natural', 'JJ', 'O'),\n",
       " ('language', 'NN', 'O'),\n",
       " ('processing', 'NN', 'O'),\n",
       " ('(', '(', 'O'),\n",
       " ('NLP', 'NNP', 'B-NE'),\n",
       " (')', ')', 'O'),\n",
       " ('is', 'VBZ', 'O'),\n",
       " ('a', 'DT', 'O'),\n",
       " ('subfield', 'NN', 'O'),\n",
       " ('of', 'IN', 'O'),\n",
       " ('Artificial', 'JJ', 'B-NE'),\n",
       " ('Intelligence', 'NNP', 'I-NE'),\n",
       " ('(', '(', 'O'),\n",
       " ('AI', 'NNP', 'O'),\n",
       " (')', ')', 'O'),\n",
       " ('.', '.', 'O'),\n",
       " ('This', 'DT', 'O'),\n",
       " ('is', 'VBZ', 'O'),\n",
       " ('a', 'DT', 'O'),\n",
       " ('widely', 'RB', 'O'),\n",
       " ('used', 'VBN', 'O'),\n",
       " ('technology', 'NN', 'O'),\n",
       " ('for', 'IN', 'O'),\n",
       " ('personal', 'JJ', 'O'),\n",
       " ('assistants', 'NNS', 'O'),\n",
       " ('that', 'WDT', 'O'),\n",
       " ('are', 'VBP', 'O'),\n",
       " ('used', 'VBN', 'O'),\n",
       " ('in', 'IN', 'O'),\n",
       " ('various', 'JJ', 'O'),\n",
       " ('business', 'NN', 'O'),\n",
       " ('fields/areas', 'NNS', 'O'),\n",
       " ('.', '.', 'O'),\n",
       " ('This', 'DT', 'O'),\n",
       " ('technology', 'NN', 'O'),\n",
       " ('works', 'VBZ', 'O'),\n",
       " ('on', 'IN', 'O'),\n",
       " ('the', 'DT', 'O'),\n",
       " ('speech', 'NN', 'O'),\n",
       " ('provided', 'VBN', 'O'),\n",
       " ('by', 'IN', 'O'),\n",
       " ('the', 'DT', 'O'),\n",
       " ('user', 'NN', 'O'),\n",
       " ('breaks', 'VBZ', 'O'),\n",
       " ('it', 'PRP', 'O'),\n",
       " ('down', 'RP', 'O'),\n",
       " ('for', 'IN', 'O'),\n",
       " ('proper', 'JJ', 'O'),\n",
       " ('understanding', 'NN', 'O'),\n",
       " ('and', 'CC', 'O'),\n",
       " ('processes', 'VBZ', 'O'),\n",
       " ('it', 'PRP', 'O'),\n",
       " ('accordingly', 'RB', 'O'),\n",
       " ('.', '.', 'O'),\n",
       " ('This', 'DT', 'O'),\n",
       " ('is', 'VBZ', 'O'),\n",
       " ('a', 'DT', 'O'),\n",
       " ('very', 'RB', 'O'),\n",
       " ('recent', 'JJ', 'O'),\n",
       " ('and', 'CC', 'O'),\n",
       " ('effective', 'JJ', 'O'),\n",
       " ('approach', 'NN', 'O'),\n",
       " ('due', 'JJ', 'O'),\n",
       " ('to', 'TO', 'O'),\n",
       " ('which', 'WDT', 'O'),\n",
       " ('it', 'PRP', 'O'),\n",
       " ('has', 'VBZ', 'O'),\n",
       " ('a', 'DT', 'O'),\n",
       " ('really', 'RB', 'O'),\n",
       " ('high', 'JJ', 'O'),\n",
       " ('demand', 'NN', 'O'),\n",
       " ('in', 'IN', 'O'),\n",
       " ('today', 'NN', 'O'),\n",
       " ('’', 'NNP', 'O'),\n",
       " ('s', 'NN', 'O'),\n",
       " ('market', 'NN', 'O'),\n",
       " ('.', '.', 'O'),\n",
       " ('Natural', 'JJ', 'O'),\n",
       " ('Language', 'NNP', 'O'),\n",
       " ('Processing', 'NNP', 'O'),\n",
       " ('is', 'VBZ', 'O'),\n",
       " ('an', 'DT', 'O'),\n",
       " ('upcoming', 'JJ', 'O'),\n",
       " ('field', 'NN', 'O'),\n",
       " ('where', 'WRB', 'O'),\n",
       " ('already', 'RB', 'O'),\n",
       " ('many', 'JJ', 'O'),\n",
       " ('transitions', 'NNS', 'O'),\n",
       " ('such', 'JJ', 'O'),\n",
       " ('as', 'IN', 'O'),\n",
       " ('compatibility', 'NN', 'O'),\n",
       " ('with', 'IN', 'O'),\n",
       " ('smart', 'JJ', 'O'),\n",
       " ('devices', 'NNS', 'O'),\n",
       " (',', ',', 'O'),\n",
       " ('and', 'CC', 'O'),\n",
       " ('interactive', 'JJ', 'O'),\n",
       " ('talks', 'NNS', 'O'),\n",
       " ('with', 'IN', 'O'),\n",
       " ('a', 'DT', 'O'),\n",
       " ('human', 'JJ', 'O'),\n",
       " ('have', 'VBP', 'O'),\n",
       " ('been', 'VBN', 'O'),\n",
       " ('made', 'VBN', 'O'),\n",
       " ('possible', 'JJ', 'O'),\n",
       " ('.', '.', 'O'),\n",
       " ('Knowledge', 'NNP', 'O'),\n",
       " ('representation', 'NN', 'O'),\n",
       " (',', ',', 'O'),\n",
       " ('logical', 'JJ', 'O'),\n",
       " ('reasoning', 'NN', 'O'),\n",
       " (',', ',', 'O'),\n",
       " ('and', 'CC', 'O'),\n",
       " ('constraint', 'JJ', 'O'),\n",
       " ('satisfaction', 'NN', 'O'),\n",
       " ('were', 'VBD', 'O'),\n",
       " ('the', 'DT', 'O'),\n",
       " ('emphasis', 'NN', 'O'),\n",
       " ('of', 'IN', 'O'),\n",
       " ('AI', 'NNP', 'O'),\n",
       " ('applications', 'NNS', 'O'),\n",
       " ('in', 'IN', 'O'),\n",
       " ('NLP', 'NNP', 'B-NE')]"
      ]
     },
     "execution_count": 75,
     "metadata": {},
     "output_type": "execute_result"
    }
   ],
   "source": [
    "from nltk.chunk import tree2conlltags\n",
    "iob = tree2conlltags(ne)\n",
    "iob"
   ]
  },
  {
   "cell_type": "code",
   "execution_count": null,
   "metadata": {},
   "outputs": [],
   "source": []
  }
 ],
 "metadata": {
  "kernelspec": {
   "display_name": "Python 3",
   "language": "python",
   "name": "python3"
  },
  "language_info": {
   "codemirror_mode": {
    "name": "ipython",
    "version": 3
   },
   "file_extension": ".py",
   "mimetype": "text/x-python",
   "name": "python",
   "nbconvert_exporter": "python",
   "pygments_lexer": "ipython3",
   "version": "3.11.5"
  }
 },
 "nbformat": 4,
 "nbformat_minor": 2
}
